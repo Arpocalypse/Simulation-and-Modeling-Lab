{
  "nbformat": 4,
  "nbformat_minor": 0,
  "metadata": {
    "colab": {
      "provenance": []
    },
    "kernelspec": {
      "name": "python3",
      "display_name": "Python 3"
    },
    "language_info": {
      "name": "python"
    }
  },
  "cells": [
    {
      "cell_type": "code",
      "execution_count": 1,
      "metadata": {
        "id": "0atO9xgukzC4"
      },
      "outputs": [],
      "source": [
        "import numpy as np\n",
        "import scipy.stats as stats\n",
        "import matplotlib.pyplot as plt\n"
      ]
    },
    {
      "cell_type": "code",
      "source": [
        "\n",
        "# Step 1: Generate Dataset\n",
        "np.random.seed(2)\n",
        "k = 2\n",
        "data = 60 + np.random.randint(0, 15, size=12) + (k % 5)\n",
        "print(\"Dataset:\", data)\n",
        "\n",
        "# Step 2: Hypothesis\n",
        "\n",
        "# H0: population mean = 65\n",
        "# H1: population mean != 65\n",
        "mu = 65\n",
        "\n",
        "\n",
        "# Step 3: Perform One-Sample t-test\n",
        "\n",
        "t_stat, p_value = stats.ttest_1samp(data, mu)\n",
        "sample_mean = np.mean(data)\n",
        "df = len(data) - 1\n",
        "\n",
        "print(f\"Sample mean: {sample_mean:.2f}\")\n",
        "print(f\"Hypothesized mean: {mu}\")\n",
        "print(f\"t-statistic: {t_stat:.4f}\")\n",
        "print(f\"Degrees of freedom: {df}\")\n",
        "print(f\"p-value: {p_value:.4f}\")\n"
      ],
      "metadata": {
        "colab": {
          "base_uri": "https://localhost:8080/"
        },
        "id": "UUD6GL04lgZR",
        "outputId": "e0ddb7e6-9a48-4268-f75d-a21bc8303f76"
      },
      "execution_count": 2,
      "outputs": [
        {
          "output_type": "stream",
          "name": "stdout",
          "text": [
            "Dataset: [70 75 70 68 73 64 73 70 69 64 63 73]\n",
            "Sample mean: 69.33\n",
            "Hypothesized mean: 65\n",
            "t-statistic: 3.7888\n",
            "Degrees of freedom: 11\n",
            "p-value: 0.0030\n"
          ]
        }
      ]
    },
    {
      "cell_type": "code",
      "source": [
        "\n",
        "# Step 4: 95% Confidence Interval\n",
        "\n",
        "alpha = 0.05\n",
        "ci = stats.t.interval(0.95, df, loc=sample_mean, scale=stats.sem(data))\n",
        "print(f\"95% Confidence Interval: {ci}\")\n"
      ],
      "metadata": {
        "colab": {
          "base_uri": "https://localhost:8080/"
        },
        "id": "n6SShl3smEbD",
        "outputId": "e7a486ab-a9ed-45c0-8b02-d9909f75d86b"
      },
      "execution_count": 3,
      "outputs": [
        {
          "output_type": "stream",
          "name": "stdout",
          "text": [
            "95% Confidence Interval: (np.float64(66.81603666344222), np.float64(71.85063000322444))\n"
          ]
        }
      ]
    },
    {
      "cell_type": "code",
      "source": [
        "\n",
        "# Step 5: Decision\n",
        "\n",
        "if p_value < alpha:\n",
        "    print(\"Reject H0: The sample mean is significantly different from 65.\")\n",
        "else:\n",
        "    print(\"Fail to reject H0: No significant difference from 65.\")\n",
        "\n",
        "\n",
        "# Step 6: Visualization\n",
        "\n",
        "plt.figure(figsize=(7,5))\n",
        "plt.errorbar(1, sample_mean, yerr=np.std(data, ddof=1)/np.sqrt(len(data)),\n",
        "             fmt='o', capsize=5, label=\"Sample mean ±1 SE\", color=\"blue\")\n",
        "plt.axhline(y=mu, color='red', linestyle='--', label=\"Hypothesized mean (65)\")\n",
        "plt.xticks([1], [\"Exam Scores\"])\n",
        "plt.ylabel(\"Score\")\n",
        "plt.title(\"One-Sample t-Test Visualization\")\n",
        "plt.legend()\n",
        "plt.show()\n"
      ],
      "metadata": {
        "colab": {
          "base_uri": "https://localhost:8080/",
          "height": 485
        },
        "id": "U2ud323LmRJ4",
        "outputId": "9572a41b-7afc-47c7-f039-139a3cbeff2a"
      },
      "execution_count": 4,
      "outputs": [
        {
          "output_type": "stream",
          "name": "stdout",
          "text": [
            "Reject H0: The sample mean is significantly different from 65.\n"
          ]
        },
        {
          "output_type": "display_data",
          "data": {
            "text/plain": [
              "<Figure size 700x500 with 1 Axes>"
            ],
            "image/png": "[encoded data removed]"
          },
          "metadata": {}
        }
      ]
    }
  ]
}